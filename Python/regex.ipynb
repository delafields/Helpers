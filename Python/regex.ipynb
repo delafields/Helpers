{
 "cells": [
  {
   "cell_type": "markdown",
   "metadata": {},
   "source": [
    "# Table of Contents\n",
    "\n",
    "* [Most important methods](###Most-important-methods)\n",
    "* [Validate email addresses](###Validate-email-addresses)\n",
    "* [Validate URLs](###Validate-URLs)\n",
    "* [Validate dates](###Validate-dates)"
   ]
  },
  {
   "cell_type": "markdown",
   "metadata": {},
   "source": [
    "### Most important methods"
   ]
  },
  {
   "cell_type": "code",
   "execution_count": 2,
   "metadata": {},
   "outputs": [],
   "source": [
    "import re"
   ]
  },
  {
   "cell_type": "markdown",
   "metadata": {},
   "source": [
    "* `re.match()` - Determine if the regex matches the beginning of the string.\n",
    "* `re.search()` - Scan through a string and return any location where this regex matches.\n",
    "* `re.findall()` - Find all substrings where the regex matches and return them as a list.\n",
    "* `re.finditer()` - Find all substrings where the regex matches and return them as an iterator."
   ]
  },
  {
   "cell_type": "markdown",
   "metadata": {},
   "source": [
    "If you're using the same regex multiple times, the recommended approach is to compile it for improved performance."
   ]
  },
  {
   "cell_type": "markdown",
   "metadata": {},
   "source": [
    "```\n",
    "compiled_re = re.compile(r'some_regex')\n",
    "\n",
    "for word in text:\n",
    "    match = word.search(compiled_re)\n",
    "    # do something with match\n",
    "```"
   ]
  },
  {
   "cell_type": "markdown",
   "metadata": {},
   "source": [
    "### Validate email addresses"
   ]
  },
  {
   "cell_type": "code",
   "execution_count": 13,
   "metadata": {},
   "outputs": [
    {
     "name": "stdout",
     "output_type": "stream",
     "text": [
      "True\n",
      "True\n",
      "True\n",
      "True\n"
     ]
    }
   ],
   "source": [
    "pattern = r\"(^[a-zA-Z0-9_.+-]+@[a-zA-Z0-9-]+\\.[a-zA-Z0-9-.]+$)\"\n",
    "\n",
    "good_email = ('test@mail.com',)\n",
    "bad_email = ('testmail.com', '@testmail.com', 'test@mailcom')\n",
    "\n",
    "for em in good_email:\n",
    "    print(bool(re.match(pattern, em)) == True)\n",
    "    \n",
    "for em in bad_email:\n",
    "    print(bool(re.match(pattern, em)) == False)    "
   ]
  },
  {
   "cell_type": "markdown",
   "metadata": {},
   "source": [
    "### Validate URLs"
   ]
  },
  {
   "cell_type": "code",
   "execution_count": 15,
   "metadata": {},
   "outputs": [
    {
     "name": "stdout",
     "output_type": "stream",
     "text": [
      "True\n",
      "True\n",
      "True\n",
      "True\n",
      "True\n",
      "True\n",
      "True\n",
      "True\n"
     ]
    }
   ],
   "source": [
    "pattern = '^(https?:\\/\\/)?([\\da-z\\.-]+)\\.([a-z\\.]{2,6})([\\/\\w \\.-]*)*\\/?$'\n",
    "\n",
    "good_url = ('https://google.com', \n",
    "            'http://google.com',\n",
    "            'www.google.com',\n",
    "            'google.com',\n",
    "            'test.en',\n",
    "            'https://google.com/python',\n",
    "            )\n",
    "            \n",
    "bad_url = ('googlecom', 'http:googlecom', )\n",
    "\n",
    "for url in good_url:\n",
    "    print(bool(re.match(pattern, url)) == True)\n",
    "\n",
    "for url in bad_url:\n",
    "    print(bool(re.match(pattern, url)) == False)"
   ]
  },
  {
   "cell_type": "markdown",
   "metadata": {},
   "source": [
    "### Validate dates"
   ]
  },
  {
   "cell_type": "code",
   "execution_count": 16,
   "metadata": {},
   "outputs": [
    {
     "name": "stdout",
     "output_type": "stream",
     "text": [
      "True\n",
      "True\n",
      "True\n",
      "True\n",
      "True\n",
      "True\n",
      "True\n"
     ]
    }
   ],
   "source": [
    "pattern = '^(0[1-9]|1[0-2])\\/(0[1-9]|1\\d|2\\d|3[01])\\/(19|20)\\d{2}$'\n",
    "\n",
    "good_date = ('01/08/2014', '12/30/2014', )\n",
    "            \n",
    "bad_date = ('22/08/2014', '-123', '1/8/2014', '1/08/2014', '01/8/2014')\n",
    "\n",
    "for date in good_date:\n",
    "    print(bool(re.match(pattern, date)) == True)\n",
    "\n",
    "for date in bad_date:\n",
    "    print(bool(re.match(pattern, date)) == False)"
   ]
  }
 ],
 "metadata": {
  "kernelspec": {
   "display_name": "Python 3",
   "language": "python",
   "name": "python3"
  },
  "language_info": {
   "codemirror_mode": {
    "name": "ipython",
    "version": 3
   },
   "file_extension": ".py",
   "mimetype": "text/x-python",
   "name": "python",
   "nbconvert_exporter": "python",
   "pygments_lexer": "ipython3",
   "version": "3.6.5"
  }
 },
 "nbformat": 4,
 "nbformat_minor": 2
}
