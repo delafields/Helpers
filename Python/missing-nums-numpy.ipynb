{
 "cells": [
  {
   "cell_type": "markdown",
   "metadata": {},
   "source": [
    "# Dealing with missing numbers in NumPy"
   ]
  },
  {
   "cell_type": "markdown",
   "metadata": {},
   "source": [
    "### Sections\n",
    "* [Sample data from a CSV file](###Sample-data-from-a-CSV-file)\n",
    "* [Determining if a value is missing](###Determining-if-a-value-is-missing)\n",
    "* [Counting the number of missing values](###Counting-the-number-of-missing-values)\n",
    "* [Calculating the sum of an array that contains NaNs](###Calculating-the-sum-of-an-array-that-contains-`NaN`s)\n",
    "* [Removing all rows that contain missing values](###Removing-all-rows-that-contain-missing-values)\n",
    "* [Converting missing values to 0](###Convert-missing-values-to-0)\n",
    "* [Converting certain numbers to NaN](###Converting-certain-numbers-to-`NaN`)"
   ]
  },
  {
   "cell_type": "markdown",
   "metadata": {},
   "source": [
    "### Sample data from a CSV file"
   ]
  },
  {
   "cell_type": "markdown",
   "metadata": {},
   "source": [
    "Let's assume we have a CSV file with missing elements that looks like:\n",
    "\n",
    "```\n",
    "%%file example.csv\n",
    "1,2,3,4\n",
    "5,6,,8\n",
    "10,11,12,\n",
    "```"
   ]
  },
  {
   "cell_type": "markdown",
   "metadata": {},
   "source": [
    "The `np.genfromtxt` function has a `missing_values` parameter which translates missing values into `np.nan` objects by default. With this, we can construct a new NumPy `ndarray` object, even with missing elements."
   ]
  },
  {
   "cell_type": "code",
   "execution_count": null,
   "metadata": {},
   "outputs": [],
   "source": [
    "import numpy as np\n",
    "arr = np.genfromtxt('./example.csv', delimeter=',')\n",
    "\n",
    "print(f'{arr.shape[0]} x {arr.shape[1] array:}')\n",
    "print(arr)\n",
    "# >> 3 x 4 array\n",
    "#     [[  1.   2.   3.   4.]\n",
    "#     [  5.   6.  nan   8.]\n",
    "#     [ 10.  11.  12.  nan]]"
   ]
  },
  {
   "cell_type": "markdown",
   "metadata": {},
   "source": [
    "### Determining if a value is missing"
   ]
  },
  {
   "cell_type": "markdown",
   "metadata": {},
   "source": [
    "The easiest built-in to use to test `NaN`s is to use the `np.isnan` function"
   ]
  },
  {
   "cell_type": "code",
   "execution_count": null,
   "metadata": {},
   "outputs": [],
   "source": [
    "np.isnan(np.nan)\n",
    "# >> True"
   ]
  },
  {
   "cell_type": "markdown",
   "metadata": {},
   "source": [
    "It is super useful to create a boolean mask for the fancy indexing of NumPy arrays"
   ]
  },
  {
   "cell_type": "code",
   "execution_count": null,
   "metadata": {},
   "outputs": [],
   "source": [
    "np.isnan(arr)\n",
    "# array([[False, False, False, False],\n",
    "#       [False, False,  True, False],\n",
    "#       [False, False, False,  True]], dtype=bool)"
   ]
  },
  {
   "cell_type": "markdown",
   "metadata": {},
   "source": [
    "### Counting the number of missing values"
   ]
  },
  {
   "cell_type": "markdown",
   "metadata": {},
   "source": [
    "We can use `np.isnan` to find out how many elements are missing in our array"
   ]
  },
  {
   "cell_type": "code",
   "execution_count": null,
   "metadata": {},
   "outputs": [],
   "source": [
    "np.count_nonzero(np.isnan(arr))\n",
    "# 2"
   ]
  },
  {
   "cell_type": "markdown",
   "metadata": {},
   "source": [
    "If we want to determine the number of non-missing elements, we can simply revert the returned `Boolean` mask via the tilde (`~`) sign"
   ]
  },
  {
   "cell_type": "code",
   "execution_count": null,
   "metadata": {},
   "outputs": [],
   "source": [
    "np.count_nonzero(~np.isnan(arr))\n",
    "# 10"
   ]
  },
  {
   "cell_type": "markdown",
   "metadata": {},
   "source": [
    "### Calculating the sum of an array that contains `NaN`s"
   ]
  },
  {
   "cell_type": "markdown",
   "metadata": {},
   "source": [
    "If a NumPy array contains `NaN`s, we cannot use `sum` to calculate the sum of the array"
   ]
  },
  {
   "cell_type": "code",
   "execution_count": null,
   "metadata": {},
   "outputs": [],
   "source": [
    "np.sum(arr)\n",
    "# nan"
   ]
  },
  {
   "cell_type": "markdown",
   "metadata": {},
   "source": [
    "Since `np.sum` doesn't work, use `np.nansum` instead:"
   ]
  },
  {
   "cell_type": "code",
   "execution_count": null,
   "metadata": {},
   "outputs": [],
   "source": [
    "print('total sum: ', np.nansum(arr))\n",
    "# total sum: 62.0\n",
    "\n",
    "print('colun sums: ', np.nansum(arr, axis=0))\n",
    "# column sums: [16. 19. 15. 12.]\n",
    "\n",
    "print('row sums:' np.nansum(arr, axis=1))\n",
    "# row sums: [10. 19. 33.]"
   ]
  },
  {
   "cell_type": "markdown",
   "metadata": {},
   "source": [
    "### Removing all rows that contain missing values"
   ]
  },
  {
   "cell_type": "markdown",
   "metadata": {},
   "source": [
    "Here, we again use the `Boolean mask` from above to return only those rows that **don't contain `NaNs`**. Note - if we wanted the rows that **do** contain `NaNs`, we can just drop the tilde `~`."
   ]
  },
  {
   "cell_type": "code",
   "execution_count": null,
   "metadata": {},
   "outputs": [],
   "source": [
    "arr[`np.isnan(arr).any(1)]\n",
    "# array([[ 1., 2., 3., 4.]])"
   ]
  },
  {
   "cell_type": "markdown",
   "metadata": {},
   "source": [
    "### Convert missing values to 0"
   ]
  },
  {
   "cell_type": "markdown",
   "metadata": {},
   "source": [
    "Certain operations simply don't work with `NaN` objects. To rectify this, we can use the `np.nan_to_num` function which converts `NaN`s to 0."
   ]
  },
  {
   "cell_type": "code",
   "execution_count": null,
   "metadata": {},
   "outputs": [],
   "source": [
    "arr0 = np.nan_to_num(arr)\n",
    "arr0\n",
    "# array([[  1.,   2.,   3.,   4.],\n",
    "#       [  5.,   6.,   0.,   8.],\n",
    "#       [ 10.,  11.,  12.,   0.]])"
   ]
  },
  {
   "cell_type": "markdown",
   "metadata": {},
   "source": [
    "### Converting certain numbers to `NaN`"
   ]
  },
  {
   "cell_type": "markdown",
   "metadata": {},
   "source": [
    "Opposite of above - we can convert any number to an `np.NaN` object."
   ]
  },
  {
   "cell_type": "code",
   "execution_count": null,
   "metadata": {},
   "outputs": [],
   "source": [
    "arr0[arr0 == 0] = np.nan\n",
    "arr0\n",
    "# array([[  1.,   2.,   3.,   4.],\n",
    "#       [  5.,   6.,  nan,   8.],\n",
    "#       [ 10.,  11.,  12.,  nan]])"
   ]
  }
 ],
 "metadata": {
  "kernelspec": {
   "display_name": "Python 3",
   "language": "python",
   "name": "python3"
  },
  "language_info": {
   "codemirror_mode": {
    "name": "ipython",
    "version": 3
   },
   "file_extension": ".py",
   "mimetype": "text/x-python",
   "name": "python",
   "nbconvert_exporter": "python",
   "pygments_lexer": "ipython3",
   "version": "3.6.5"
  }
 },
 "nbformat": 4,
 "nbformat_minor": 2
}
